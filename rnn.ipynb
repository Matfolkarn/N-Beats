{
 "cells": [
  {
   "cell_type": "code",
   "execution_count": 1,
   "metadata": {},
   "outputs": [
    {
     "name": "stderr",
     "output_type": "stream",
     "text": [
      "c:\\Users\\Hampus\\anaconda3\\Lib\\site-packages\\yfinance\\base.py:48: FutureWarning: The default dtype for empty Series will be 'object' instead of 'float64' in a future version. Specify a dtype explicitly to silence this warning.\n",
      "  _empty_series = pd.Series()\n"
     ]
    }
   ],
   "source": [
    "import yfinance as yf\n",
    "import tensorflow as tf\n",
    "import torch\n",
    "import torch.nn as nn\n",
    "import torch.optim as optim\n",
    "import pandas as pd\n",
    "import numpy as np\n",
    "from torch.utils.data import DataLoader, TensorDataset"
   ]
  },
  {
   "cell_type": "code",
   "execution_count": 5,
   "metadata": {},
   "outputs": [],
   "source": [
    "GetFacebookInformation = yf.Ticker(\"META\")\n",
    "facebook_history = GetFacebookInformation.history(period=\"max\")\n"
   ]
  },
  {
   "cell_type": "code",
   "execution_count": 6,
   "metadata": {},
   "outputs": [],
   "source": [
    "train_data_set = facebook_history[:400]\n",
    "test_data_set = facebook_history[2800:]"
   ]
  },
  {
   "cell_type": "code",
   "execution_count": 3,
   "metadata": {},
   "outputs": [],
   "source": [
    "forecast_length = 1\n",
    "backcast_length = 10"
   ]
  },
  {
   "cell_type": "code",
   "execution_count": 7,
   "metadata": {},
   "outputs": [],
   "source": [
    "#Pre-process data\n",
    "def pre_process(dataset, backcast, forecast):\n",
    "    x_l = []\n",
    "    y_l = []\n",
    "\n",
    "    for i in range(backcast, len(dataset) - forecast):\n",
    "        x = []\n",
    "        for b in range(backcast):\n",
    "            x.append(dataset.iloc[i - backcast + b, 1].tolist())\n",
    "        \n",
    "        #Normalize with max value\n",
    "        mx = max(x) \n",
    "        x = [elem/ mx for elem in x]\n",
    "        x_l.append(x)\n",
    "\n",
    "\n",
    "        y = []\n",
    "        for f in range(forecast_length):\n",
    "            y.append(dataset.iloc[i + f, 1].tolist())\n",
    "\n",
    "        #Normalize with max value\n",
    "        y = [elem/mx for elem in y] \n",
    "        y_l.append(y)\n",
    "\n",
    "    return x_l,y_l\n",
    "\n",
    "x_train, y_train = pre_process(train_data_set, backcast_length, forecast_length)\n",
    "x_test, y_test = pre_process(test_data_set, backcast_length, forecast_length)\n",
    "\n",
    "test_data_loader = DataLoader(TensorDataset(torch.Tensor(x_train), torch.Tensor(y_train)),shuffle=True)"
   ]
  },
  {
   "cell_type": "code",
   "execution_count": null,
   "metadata": {},
   "outputs": [],
   "source": [
    "class SimpleRNN(nn.Module):\n",
    "    def __init__(self, input_size, output_size,nbr_hidden_layers, nbr_hidden_nodes):\n",
    "        super(SimpleRNN).__init__()\n",
    "\n",
    "    def forward(self,x):\n"
   ]
  }
 ],
 "metadata": {
  "kernelspec": {
   "display_name": "base",
   "language": "python",
   "name": "python3"
  },
  "language_info": {
   "codemirror_mode": {
    "name": "ipython",
    "version": 3
   },
   "file_extension": ".py",
   "mimetype": "text/x-python",
   "name": "python",
   "nbconvert_exporter": "python",
   "pygments_lexer": "ipython3",
   "version": "3.11.4"
  }
 },
 "nbformat": 4,
 "nbformat_minor": 2
}
