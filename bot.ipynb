{
 "cells": [
  {
   "cell_type": "code",
   "execution_count": 132,
   "metadata": {},
   "outputs": [],
   "source": [
    "import yfinance as yf\n",
    "import tensorflow as tf\n",
    "import torch\n",
    "import torch.nn as nn\n",
    "import torch.optim as optim\n",
    "import pandas as pd\n",
    "from torch.utils.data import DataLoader, TensorDataset"
   ]
  },
  {
   "cell_type": "code",
   "execution_count": 2,
   "metadata": {},
   "outputs": [
    {
     "name": "stdout",
     "output_type": "stream",
     "text": [
      "                                 Open        High         Low       Close  \\\n",
      "Date                                                                        \n",
      "2012-05-18 00:00:00-04:00   42.049999   45.000000   38.000000   38.230000   \n",
      "2012-05-21 00:00:00-04:00   36.529999   36.660000   33.000000   34.029999   \n",
      "2012-05-22 00:00:00-04:00   32.610001   33.590000   30.940001   31.000000   \n",
      "2012-05-23 00:00:00-04:00   31.370001   32.500000   31.360001   32.000000   \n",
      "2012-05-24 00:00:00-04:00   32.950001   33.209999   31.770000   33.029999   \n",
      "...                               ...         ...         ...         ...   \n",
      "2024-02-12 00:00:00-05:00  468.190002  479.149994  466.579987  468.899994   \n",
      "2024-02-13 00:00:00-05:00  456.869995  467.890015  455.089996  460.119995   \n",
      "2024-02-14 00:00:00-05:00  467.929993  474.109985  466.089996  473.279999   \n",
      "2024-02-15 00:00:00-05:00  475.279999  488.619995  472.220001  484.029999   \n",
      "2024-02-16 00:00:00-05:00  478.109985  478.959991  469.209991  473.320007   \n",
      "\n",
      "                              Volume  Dividends  Stock Splits  \n",
      "Date                                                           \n",
      "2012-05-18 00:00:00-04:00  573576400        0.0           0.0  \n",
      "2012-05-21 00:00:00-04:00  168192700        0.0           0.0  \n",
      "2012-05-22 00:00:00-04:00  101786600        0.0           0.0  \n",
      "2012-05-23 00:00:00-04:00   73600000        0.0           0.0  \n",
      "2012-05-24 00:00:00-04:00   50237200        0.0           0.0  \n",
      "...                              ...        ...           ...  \n",
      "2024-02-12 00:00:00-05:00   19382000        0.0           0.0  \n",
      "2024-02-13 00:00:00-05:00   20916600        0.0           0.0  \n",
      "2024-02-14 00:00:00-05:00   16858400        0.0           0.0  \n",
      "2024-02-15 00:00:00-05:00   24212300        0.0           0.0  \n",
      "2024-02-16 00:00:00-05:00   23306500        0.0           0.0  \n",
      "\n",
      "[2956 rows x 7 columns]\n"
     ]
    }
   ],
   "source": [
    "GetFacebookInformation = yf.Ticker(\"META\")\n",
    "print(GetFacebookInformation.history(period=\"max\"))\n"
   ]
  },
  {
   "cell_type": "code",
   "execution_count": 213,
   "metadata": {},
   "outputs": [
    {
     "name": "stdout",
     "output_type": "stream",
     "text": [
      "157\n"
     ]
    }
   ],
   "source": [
    "one_month = GetFacebookInformation.history(period='max')\n",
    "one_month_train = one_month.iloc[:300] \n",
    "one_month_eval = one_month.iloc[2800:]\n",
    "print(len(one_month_eval))"
   ]
  },
  {
   "cell_type": "code",
   "execution_count": 214,
   "metadata": {},
   "outputs": [],
   "source": [
    "#Evaluate dataset\n",
    "\n",
    "x_eval = []\n",
    "y_eval = []\n",
    "\n",
    "for i in range(1,len(one_month_eval) -1):\n",
    "    res = []\n",
    "    res.append(one_month_train.iloc[i-1,[0,1,2,3,4]].tolist())\n",
    "    res.append(one_month_train.iloc[i,[0,1,2,3,4]].tolist())\n",
    "    x_eval.append(res)\n",
    "    y_eval.append(one_month_train.iat[i+1,1])\n",
    "\n",
    "xx_eval = torch.tensor(x_eval, dtype=torch.float32)\n",
    "yy_eval = torch.tensor(y_eval, dtype=torch.float32)\n",
    "\n",
    "tt_eval = (xx_eval, yy_eval)\n"
   ]
  },
  {
   "cell_type": "code",
   "execution_count": 215,
   "metadata": {},
   "outputs": [],
   "source": [
    "xx = []\n",
    "yy = []\n",
    "\n",
    "for i in range(1,len(one_month_train) -1):\n",
    "    res = []\n",
    "    res.append(one_month_train.iloc[i-1,[0,1,2,3,4]].tolist())\n",
    "    res.append(one_month_train.iloc[i,[0,1,2,3,4]].tolist())\n",
    "    xx.append(res)\n",
    "    yy.append(one_month_train.iat[i+1,1])\n",
    "\n",
    "xx_train = torch.tensor(xx, dtype=torch.float32)\n",
    "yy_train = torch.tensor(yy, dtype=torch.float32)\n",
    "\n",
    "tt_train = (xx_train, yy_train)\n",
    "\n"
   ]
  },
  {
   "cell_type": "code",
   "execution_count": 216,
   "metadata": {},
   "outputs": [],
   "source": [
    "class TransformerModel(nn.Module):\n",
    "    def __init__(self, input_dim, output_dim, num_layers, hidden_dim, num_heads, dropout):\n",
    "        super(TransformerModel, self).__init__()\n",
    "        \n",
    "        self.encoder_layer = nn.TransformerEncoderLayer(d_model=input_dim, nhead=num_heads, dim_feedforward=hidden_dim, dropout=dropout)\n",
    "        self.transformer_encoder = nn.TransformerEncoder(self.encoder_layer, num_layers=num_layers)\n",
    "        self.fc = nn.Linear(input_dim, output_dim)\n",
    "\n",
    "    def forward(self,src):\n",
    "        src = self.transformer_encoder(src)\n",
    "        output = self.fc(src[-1])  # Get the output from the last time step\n",
    "        return output"
   ]
  },
  {
   "cell_type": "code",
   "execution_count": null,
   "metadata": {},
   "outputs": [],
   "source": []
  },
  {
   "cell_type": "code",
   "execution_count": 225,
   "metadata": {},
   "outputs": [],
   "source": [
    "#VARIABLES\n",
    "input_dim = 5  # Dimensionality of input features\n",
    "output_dim = 1   # Dimensionality of output (e.g., predicted price change)\n",
    "num_layers = 4   # Number of Transformer encoder layers\n",
    "hidden_dim = 256 # Hidden dimension of feed-forward layers\n",
    "num_heads = 5    # Number of attention heads\n",
    "dropout = 0.1    # Dropout probability\n",
    "\n",
    "num_epochs = 10"
   ]
  },
  {
   "cell_type": "code",
   "execution_count": 226,
   "metadata": {},
   "outputs": [],
   "source": [
    "model = TransformerModel(input_dim, output_dim, num_layers, hidden_dim, num_heads, dropout)\n",
    "criterion = nn.MSELoss()\n",
    "optimizer = optim.Adam(model.parameters(), lr=0.001)"
   ]
  },
  {
   "cell_type": "code",
   "execution_count": 227,
   "metadata": {},
   "outputs": [
    {
     "name": "stdout",
     "output_type": "stream",
     "text": [
      "298\n"
     ]
    },
    {
     "name": "stderr",
     "output_type": "stream",
     "text": [
      "C:\\Users\\Hampus\\AppData\\Local\\Temp\\ipykernel_4832\\2507591663.py:9: UserWarning: To copy construct from a tensor, it is recommended to use sourceTensor.clone().detach() or sourceTensor.clone().detach().requires_grad_(True), rather than torch.tensor(sourceTensor).\n",
      "  targets = torch.tensor(tt_train[1][x])\n"
     ]
    },
    {
     "name": "stdout",
     "output_type": "stream",
     "text": [
      "Epoch 1/10, Loss: 1175.8240966796875\n",
      "Epoch 2/10, Loss: 789.7499389648438\n",
      "Epoch 3/10, Loss: 441.9554138183594\n",
      "Epoch 4/10, Loss: 243.6337127685547\n",
      "Epoch 5/10, Loss: 158.7877960205078\n",
      "Epoch 6/10, Loss: 132.80746459960938\n",
      "Epoch 7/10, Loss: 129.02581787109375\n",
      "Epoch 8/10, Loss: 136.9346923828125\n",
      "Epoch 9/10, Loss: 123.48954772949219\n",
      "Epoch 10/10, Loss: 132.83018493652344\n"
     ]
    }
   ],
   "source": [
    "losses = []\n",
    "print(len(tt_train[1]))\n",
    "\n",
    "for epoch in range(num_epochs):\n",
    "    model.train()\n",
    "    for x in range(len(tt_train[1])):\n",
    "        inputs = tt_train[0][x]\n",
    "     \n",
    "        targets = torch.tensor(tt_train[1][x])\n",
    "        optimizer.zero_grad()\n",
    "        outputs = model(inputs)\n",
    "        loss = criterion(outputs, targets)\n",
    "        loss.backward()\n",
    "        optimizer.step()\n",
    "    print(f'Epoch {epoch+1}/{num_epochs}, Loss: {loss.item()}')\n",
    "    losses.append(loss.item())"
   ]
  },
  {
   "cell_type": "code",
   "execution_count": 233,
   "metadata": {},
   "outputs": [
    {
     "name": "stdout",
     "output_type": "stream",
     "text": [
      "tensor(26.6452, grad_fn=<SelectBackward0>)\n",
      "tensor(26.6455, grad_fn=<SelectBackward0>)\n",
      "tensor(26.6455, grad_fn=<SelectBackward0>)\n",
      "tensor(26.6455, grad_fn=<SelectBackward0>)\n",
      "tensor(26.6456, grad_fn=<SelectBackward0>)\n",
      "tensor(26.6456, grad_fn=<SelectBackward0>)\n",
      "tensor(26.6455, grad_fn=<SelectBackward0>)\n",
      "tensor(26.6456, grad_fn=<SelectBackward0>)\n",
      "tensor(26.6453, grad_fn=<SelectBackward0>)\n",
      "tensor(26.6456, grad_fn=<SelectBackward0>)\n",
      "tensor(26.6456, grad_fn=<SelectBackward0>)\n",
      "tensor(26.6456, grad_fn=<SelectBackward0>)\n",
      "tensor(26.6453, grad_fn=<SelectBackward0>)\n",
      "tensor(26.6456, grad_fn=<SelectBackward0>)\n",
      "tensor(26.6456, grad_fn=<SelectBackward0>)\n",
      "tensor(26.6455, grad_fn=<SelectBackward0>)\n",
      "tensor(26.6456, grad_fn=<SelectBackward0>)\n",
      "tensor(26.6456, grad_fn=<SelectBackward0>)\n",
      "tensor(26.6455, grad_fn=<SelectBackward0>)\n",
      "tensor(26.6456, grad_fn=<SelectBackward0>)\n",
      "tensor(26.6455, grad_fn=<SelectBackward0>)\n",
      "tensor(26.6454, grad_fn=<SelectBackward0>)\n",
      "tensor(26.6456, grad_fn=<SelectBackward0>)\n",
      "tensor(26.6455, grad_fn=<SelectBackward0>)\n",
      "tensor(26.6452, grad_fn=<SelectBackward0>)\n",
      "tensor(26.6456, grad_fn=<SelectBackward0>)\n",
      "tensor(26.6456, grad_fn=<SelectBackward0>)\n",
      "tensor(26.6455, grad_fn=<SelectBackward0>)\n",
      "tensor(26.6456, grad_fn=<SelectBackward0>)\n",
      "tensor(26.6455, grad_fn=<SelectBackward0>)\n",
      "tensor(26.6455, grad_fn=<SelectBackward0>)\n",
      "tensor(26.6456, grad_fn=<SelectBackward0>)\n",
      "tensor(26.6456, grad_fn=<SelectBackward0>)\n",
      "tensor(26.6456, grad_fn=<SelectBackward0>)\n",
      "tensor(26.6456, grad_fn=<SelectBackward0>)\n",
      "tensor(26.6456, grad_fn=<SelectBackward0>)\n",
      "tensor(26.6456, grad_fn=<SelectBackward0>)\n",
      "tensor(26.6455, grad_fn=<SelectBackward0>)\n",
      "tensor(26.6455, grad_fn=<SelectBackward0>)\n",
      "tensor(26.6456, grad_fn=<SelectBackward0>)\n",
      "tensor(26.6454, grad_fn=<SelectBackward0>)\n",
      "tensor(26.6456, grad_fn=<SelectBackward0>)\n",
      "tensor(26.6456, grad_fn=<SelectBackward0>)\n",
      "tensor(26.6456, grad_fn=<SelectBackward0>)\n",
      "tensor(26.6456, grad_fn=<SelectBackward0>)\n",
      "tensor(26.6456, grad_fn=<SelectBackward0>)\n",
      "tensor(26.6455, grad_fn=<SelectBackward0>)\n",
      "tensor(26.6456, grad_fn=<SelectBackward0>)\n",
      "tensor(26.6451, grad_fn=<SelectBackward0>)\n",
      "tensor(26.6456, grad_fn=<SelectBackward0>)\n",
      "tensor(26.6456, grad_fn=<SelectBackward0>)\n",
      "tensor(26.6456, grad_fn=<SelectBackward0>)\n",
      "tensor(26.6456, grad_fn=<SelectBackward0>)\n",
      "tensor(26.6452, grad_fn=<SelectBackward0>)\n",
      "tensor(26.6456, grad_fn=<SelectBackward0>)\n",
      "tensor(26.6456, grad_fn=<SelectBackward0>)\n",
      "tensor(26.6454, grad_fn=<SelectBackward0>)\n",
      "tensor(26.6456, grad_fn=<SelectBackward0>)\n",
      "tensor(26.6456, grad_fn=<SelectBackward0>)\n",
      "tensor(26.6456, grad_fn=<SelectBackward0>)\n",
      "tensor(26.6456, grad_fn=<SelectBackward0>)\n",
      "tensor(26.6455, grad_fn=<SelectBackward0>)\n",
      "tensor(26.6456, grad_fn=<SelectBackward0>)\n",
      "tensor(26.6456, grad_fn=<SelectBackward0>)\n",
      "tensor(26.6455, grad_fn=<SelectBackward0>)\n",
      "tensor(26.6455, grad_fn=<SelectBackward0>)\n",
      "tensor(26.6455, grad_fn=<SelectBackward0>)\n",
      "tensor(26.6456, grad_fn=<SelectBackward0>)\n",
      "tensor(26.6455, grad_fn=<SelectBackward0>)\n",
      "tensor(26.6456, grad_fn=<SelectBackward0>)\n",
      "tensor(26.6455, grad_fn=<SelectBackward0>)\n",
      "tensor(26.6456, grad_fn=<SelectBackward0>)\n",
      "tensor(26.6456, grad_fn=<SelectBackward0>)\n",
      "tensor(26.6456, grad_fn=<SelectBackward0>)\n",
      "tensor(26.6456, grad_fn=<SelectBackward0>)\n",
      "tensor(26.6456, grad_fn=<SelectBackward0>)\n",
      "tensor(26.6456, grad_fn=<SelectBackward0>)\n",
      "tensor(26.6455, grad_fn=<SelectBackward0>)\n",
      "tensor(26.6456, grad_fn=<SelectBackward0>)\n",
      "tensor(26.6455, grad_fn=<SelectBackward0>)\n",
      "tensor(26.6454, grad_fn=<SelectBackward0>)\n",
      "tensor(26.6456, grad_fn=<SelectBackward0>)\n",
      "tensor(26.6455, grad_fn=<SelectBackward0>)\n",
      "tensor(26.6455, grad_fn=<SelectBackward0>)\n",
      "tensor(26.6456, grad_fn=<SelectBackward0>)\n",
      "tensor(26.6455, grad_fn=<SelectBackward0>)\n",
      "tensor(26.6456, grad_fn=<SelectBackward0>)\n",
      "tensor(26.6456, grad_fn=<SelectBackward0>)\n",
      "tensor(26.6455, grad_fn=<SelectBackward0>)\n",
      "tensor(26.6456, grad_fn=<SelectBackward0>)\n",
      "tensor(26.6456, grad_fn=<SelectBackward0>)\n",
      "tensor(26.6456, grad_fn=<SelectBackward0>)\n",
      "tensor(26.6456, grad_fn=<SelectBackward0>)\n",
      "tensor(26.6455, grad_fn=<SelectBackward0>)\n",
      "tensor(26.6456, grad_fn=<SelectBackward0>)\n",
      "tensor(26.6456, grad_fn=<SelectBackward0>)\n",
      "tensor(26.6456, grad_fn=<SelectBackward0>)\n",
      "tensor(26.6456, grad_fn=<SelectBackward0>)\n",
      "tensor(26.6456, grad_fn=<SelectBackward0>)\n",
      "tensor(26.6456, grad_fn=<SelectBackward0>)\n",
      "tensor(26.6454, grad_fn=<SelectBackward0>)\n",
      "tensor(26.6456, grad_fn=<SelectBackward0>)\n",
      "tensor(26.6456, grad_fn=<SelectBackward0>)\n",
      "tensor(26.6456, grad_fn=<SelectBackward0>)\n",
      "tensor(26.6456, grad_fn=<SelectBackward0>)\n",
      "tensor(26.6456, grad_fn=<SelectBackward0>)\n",
      "tensor(26.6455, grad_fn=<SelectBackward0>)\n",
      "tensor(26.6456, grad_fn=<SelectBackward0>)\n",
      "tensor(26.6455, grad_fn=<SelectBackward0>)\n",
      "tensor(26.6455, grad_fn=<SelectBackward0>)\n",
      "tensor(26.6452, grad_fn=<SelectBackward0>)\n",
      "tensor(26.6456, grad_fn=<SelectBackward0>)\n",
      "tensor(26.6456, grad_fn=<SelectBackward0>)\n",
      "tensor(26.6453, grad_fn=<SelectBackward0>)\n",
      "tensor(26.6456, grad_fn=<SelectBackward0>)\n",
      "tensor(26.6456, grad_fn=<SelectBackward0>)\n",
      "tensor(26.6456, grad_fn=<SelectBackward0>)\n",
      "tensor(26.6456, grad_fn=<SelectBackward0>)\n",
      "tensor(26.6456, grad_fn=<SelectBackward0>)\n",
      "tensor(26.6456, grad_fn=<SelectBackward0>)\n",
      "tensor(26.6456, grad_fn=<SelectBackward0>)\n",
      "tensor(26.6456, grad_fn=<SelectBackward0>)\n",
      "tensor(26.6455, grad_fn=<SelectBackward0>)\n",
      "tensor(26.6452, grad_fn=<SelectBackward0>)\n",
      "tensor(26.6456, grad_fn=<SelectBackward0>)\n",
      "tensor(26.6456, grad_fn=<SelectBackward0>)\n",
      "tensor(26.6454, grad_fn=<SelectBackward0>)\n",
      "tensor(26.6456, grad_fn=<SelectBackward0>)\n",
      "tensor(26.6452, grad_fn=<SelectBackward0>)\n",
      "tensor(26.6455, grad_fn=<SelectBackward0>)\n",
      "tensor(26.6455, grad_fn=<SelectBackward0>)\n",
      "tensor(26.6455, grad_fn=<SelectBackward0>)\n",
      "tensor(26.6456, grad_fn=<SelectBackward0>)\n",
      "tensor(26.6456, grad_fn=<SelectBackward0>)\n",
      "tensor(26.6456, grad_fn=<SelectBackward0>)\n",
      "tensor(26.6455, grad_fn=<SelectBackward0>)\n",
      "tensor(26.6456, grad_fn=<SelectBackward0>)\n",
      "tensor(26.6456, grad_fn=<SelectBackward0>)\n",
      "tensor(26.6456, grad_fn=<SelectBackward0>)\n",
      "tensor(26.6456, grad_fn=<SelectBackward0>)\n",
      "tensor(26.6456, grad_fn=<SelectBackward0>)\n",
      "tensor(26.6455, grad_fn=<SelectBackward0>)\n",
      "tensor(26.6456, grad_fn=<SelectBackward0>)\n",
      "tensor(26.6456, grad_fn=<SelectBackward0>)\n",
      "tensor(26.6455, grad_fn=<SelectBackward0>)\n",
      "tensor(26.6456, grad_fn=<SelectBackward0>)\n",
      "tensor(26.6456, grad_fn=<SelectBackward0>)\n",
      "tensor(26.6455, grad_fn=<SelectBackward0>)\n",
      "tensor(26.6456, grad_fn=<SelectBackward0>)\n",
      "tensor(26.6454, grad_fn=<SelectBackward0>)\n",
      "tensor(26.6456, grad_fn=<SelectBackward0>)\n",
      "tensor(26.6456, grad_fn=<SelectBackward0>)\n",
      "tensor(26.6456, grad_fn=<SelectBackward0>)\n",
      "tensor(26.6456, grad_fn=<SelectBackward0>)\n",
      "tensor(26.6456, grad_fn=<SelectBackward0>)\n"
     ]
    }
   ],
   "source": [
    "#EVALUATE\n",
    "outputs_eval = []\n",
    "expected_outputs = y_eval\n",
    "model.eval()\n",
    "for x in range(len(tt_eval[1])):\n",
    "    inputs = tt_eval[0][x]\n",
    "    #targets = torch.tensor(tt_eval[1][x])\n",
    "    outputs = model(inputs)\n",
    "    print(outputs[0])\n",
    "    outputs_eval.append(outputs)\n"
   ]
  },
  {
   "cell_type": "code",
   "execution_count": 202,
   "metadata": {},
   "outputs": [
    {
     "ename": "IndexError",
     "evalue": "list index out of range",
     "output_type": "error",
     "traceback": [
      "\u001b[1;31m---------------------------------------------------------------------------\u001b[0m",
      "\u001b[1;31mIndexError\u001b[0m                                Traceback (most recent call last)",
      "Cell \u001b[1;32mIn[202], line 5\u001b[0m\n\u001b[0;32m      2\u001b[0m \u001b[38;5;28;01mimport\u001b[39;00m \u001b[38;5;21;01mmatplotlib\u001b[39;00m\u001b[38;5;21;01m.\u001b[39;00m\u001b[38;5;21;01mpyplot\u001b[39;00m \u001b[38;5;28;01mas\u001b[39;00m \u001b[38;5;21;01mplt\u001b[39;00m\n\u001b[0;32m      4\u001b[0m plt\u001b[38;5;241m.\u001b[39mplot(losses)\n\u001b[1;32m----> 5\u001b[0m \u001b[38;5;28mprint\u001b[39m(losses[\u001b[38;5;241m2700\u001b[39m])\n",
      "\u001b[1;31mIndexError\u001b[0m: list index out of range"
     ]
    },
    {
     "data": {
      "image/png": "[encoded data removed]",
      "text/plain": [
       "<Figure size 640x480 with 1 Axes>"
      ]
     },
     "metadata": {},
     "output_type": "display_data"
    }
   ],
   "source": [
    "##TRAIN LOSS\n",
    "import matplotlib.pyplot as plt\n",
    "\n",
    "plt.plot(losses)\n",
    "print(losses[2700])"
   ]
  },
  {
   "cell_type": "code",
   "execution_count": 234,
   "metadata": {},
   "outputs": [
    {
     "name": "stdout",
     "output_type": "stream",
     "text": [
      "[tensor([26.6452], grad_fn=<AddBackward0>), tensor([26.6455], grad_fn=<AddBackward0>), tensor([26.6455], grad_fn=<AddBackward0>), tensor([26.6455], grad_fn=<AddBackward0>), tensor([26.6456], grad_fn=<AddBackward0>), tensor([26.6456], grad_fn=<AddBackward0>), tensor([26.6455], grad_fn=<AddBackward0>), tensor([26.6456], grad_fn=<AddBackward0>), tensor([26.6453], grad_fn=<AddBackward0>), tensor([26.6456], grad_fn=<AddBackward0>), tensor([26.6456], grad_fn=<AddBackward0>), tensor([26.6456], grad_fn=<AddBackward0>), tensor([26.6453], grad_fn=<AddBackward0>), tensor([26.6456], grad_fn=<AddBackward0>), tensor([26.6456], grad_fn=<AddBackward0>), tensor([26.6455], grad_fn=<AddBackward0>), tensor([26.6456], grad_fn=<AddBackward0>), tensor([26.6456], grad_fn=<AddBackward0>), tensor([26.6455], grad_fn=<AddBackward0>), tensor([26.6456], grad_fn=<AddBackward0>), tensor([26.6455], grad_fn=<AddBackward0>), tensor([26.6454], grad_fn=<AddBackward0>), tensor([26.6456], grad_fn=<AddBackward0>), tensor([26.6455], grad_fn=<AddBackward0>), tensor([26.6452], grad_fn=<AddBackward0>), tensor([26.6456], grad_fn=<AddBackward0>), tensor([26.6456], grad_fn=<AddBackward0>), tensor([26.6455], grad_fn=<AddBackward0>), tensor([26.6456], grad_fn=<AddBackward0>), tensor([26.6455], grad_fn=<AddBackward0>), tensor([26.6455], grad_fn=<AddBackward0>), tensor([26.6456], grad_fn=<AddBackward0>), tensor([26.6456], grad_fn=<AddBackward0>), tensor([26.6456], grad_fn=<AddBackward0>), tensor([26.6456], grad_fn=<AddBackward0>), tensor([26.6456], grad_fn=<AddBackward0>), tensor([26.6456], grad_fn=<AddBackward0>), tensor([26.6455], grad_fn=<AddBackward0>), tensor([26.6455], grad_fn=<AddBackward0>), tensor([26.6456], grad_fn=<AddBackward0>), tensor([26.6454], grad_fn=<AddBackward0>), tensor([26.6456], grad_fn=<AddBackward0>), tensor([26.6456], grad_fn=<AddBackward0>), tensor([26.6456], grad_fn=<AddBackward0>), tensor([26.6456], grad_fn=<AddBackward0>), tensor([26.6456], grad_fn=<AddBackward0>), tensor([26.6455], grad_fn=<AddBackward0>), tensor([26.6456], grad_fn=<AddBackward0>), tensor([26.6451], grad_fn=<AddBackward0>), tensor([26.6456], grad_fn=<AddBackward0>), tensor([26.6456], grad_fn=<AddBackward0>), tensor([26.6456], grad_fn=<AddBackward0>), tensor([26.6456], grad_fn=<AddBackward0>), tensor([26.6452], grad_fn=<AddBackward0>), tensor([26.6456], grad_fn=<AddBackward0>), tensor([26.6456], grad_fn=<AddBackward0>), tensor([26.6454], grad_fn=<AddBackward0>), tensor([26.6456], grad_fn=<AddBackward0>), tensor([26.6456], grad_fn=<AddBackward0>), tensor([26.6456], grad_fn=<AddBackward0>), tensor([26.6456], grad_fn=<AddBackward0>), tensor([26.6455], grad_fn=<AddBackward0>), tensor([26.6456], grad_fn=<AddBackward0>), tensor([26.6456], grad_fn=<AddBackward0>), tensor([26.6455], grad_fn=<AddBackward0>), tensor([26.6455], grad_fn=<AddBackward0>), tensor([26.6455], grad_fn=<AddBackward0>), tensor([26.6456], grad_fn=<AddBackward0>), tensor([26.6455], grad_fn=<AddBackward0>), tensor([26.6456], grad_fn=<AddBackward0>), tensor([26.6455], grad_fn=<AddBackward0>), tensor([26.6456], grad_fn=<AddBackward0>), tensor([26.6456], grad_fn=<AddBackward0>), tensor([26.6456], grad_fn=<AddBackward0>), tensor([26.6456], grad_fn=<AddBackward0>), tensor([26.6456], grad_fn=<AddBackward0>), tensor([26.6456], grad_fn=<AddBackward0>), tensor([26.6455], grad_fn=<AddBackward0>), tensor([26.6456], grad_fn=<AddBackward0>), tensor([26.6455], grad_fn=<AddBackward0>), tensor([26.6454], grad_fn=<AddBackward0>), tensor([26.6456], grad_fn=<AddBackward0>), tensor([26.6455], grad_fn=<AddBackward0>), tensor([26.6455], grad_fn=<AddBackward0>), tensor([26.6456], grad_fn=<AddBackward0>), tensor([26.6455], grad_fn=<AddBackward0>), tensor([26.6456], grad_fn=<AddBackward0>), tensor([26.6456], grad_fn=<AddBackward0>), tensor([26.6455], grad_fn=<AddBackward0>), tensor([26.6456], grad_fn=<AddBackward0>), tensor([26.6456], grad_fn=<AddBackward0>), tensor([26.6456], grad_fn=<AddBackward0>), tensor([26.6456], grad_fn=<AddBackward0>), tensor([26.6455], grad_fn=<AddBackward0>), tensor([26.6456], grad_fn=<AddBackward0>), tensor([26.6456], grad_fn=<AddBackward0>), tensor([26.6456], grad_fn=<AddBackward0>), tensor([26.6456], grad_fn=<AddBackward0>), tensor([26.6456], grad_fn=<AddBackward0>), tensor([26.6456], grad_fn=<AddBackward0>), tensor([26.6454], grad_fn=<AddBackward0>), tensor([26.6456], grad_fn=<AddBackward0>), tensor([26.6456], grad_fn=<AddBackward0>), tensor([26.6456], grad_fn=<AddBackward0>), tensor([26.6456], grad_fn=<AddBackward0>), tensor([26.6456], grad_fn=<AddBackward0>), tensor([26.6455], grad_fn=<AddBackward0>), tensor([26.6456], grad_fn=<AddBackward0>), tensor([26.6455], grad_fn=<AddBackward0>), tensor([26.6455], grad_fn=<AddBackward0>), tensor([26.6452], grad_fn=<AddBackward0>), tensor([26.6456], grad_fn=<AddBackward0>), tensor([26.6456], grad_fn=<AddBackward0>), tensor([26.6453], grad_fn=<AddBackward0>), tensor([26.6456], grad_fn=<AddBackward0>), tensor([26.6456], grad_fn=<AddBackward0>), tensor([26.6456], grad_fn=<AddBackward0>), tensor([26.6456], grad_fn=<AddBackward0>), tensor([26.6456], grad_fn=<AddBackward0>), tensor([26.6456], grad_fn=<AddBackward0>), tensor([26.6456], grad_fn=<AddBackward0>), tensor([26.6456], grad_fn=<AddBackward0>), tensor([26.6455], grad_fn=<AddBackward0>), tensor([26.6452], grad_fn=<AddBackward0>), tensor([26.6456], grad_fn=<AddBackward0>), tensor([26.6456], grad_fn=<AddBackward0>), tensor([26.6454], grad_fn=<AddBackward0>), tensor([26.6456], grad_fn=<AddBackward0>), tensor([26.6452], grad_fn=<AddBackward0>), tensor([26.6455], grad_fn=<AddBackward0>), tensor([26.6455], grad_fn=<AddBackward0>), tensor([26.6455], grad_fn=<AddBackward0>), tensor([26.6456], grad_fn=<AddBackward0>), tensor([26.6456], grad_fn=<AddBackward0>), tensor([26.6456], grad_fn=<AddBackward0>), tensor([26.6455], grad_fn=<AddBackward0>), tensor([26.6456], grad_fn=<AddBackward0>), tensor([26.6456], grad_fn=<AddBackward0>), tensor([26.6456], grad_fn=<AddBackward0>), tensor([26.6456], grad_fn=<AddBackward0>), tensor([26.6456], grad_fn=<AddBackward0>), tensor([26.6455], grad_fn=<AddBackward0>), tensor([26.6456], grad_fn=<AddBackward0>), tensor([26.6456], grad_fn=<AddBackward0>), tensor([26.6455], grad_fn=<AddBackward0>), tensor([26.6456], grad_fn=<AddBackward0>), tensor([26.6456], grad_fn=<AddBackward0>), tensor([26.6455], grad_fn=<AddBackward0>), tensor([26.6456], grad_fn=<AddBackward0>), tensor([26.6454], grad_fn=<AddBackward0>), tensor([26.6456], grad_fn=<AddBackward0>), tensor([26.6456], grad_fn=<AddBackward0>), tensor([26.6456], grad_fn=<AddBackward0>), tensor([26.6456], grad_fn=<AddBackward0>), tensor([26.6456], grad_fn=<AddBackward0>)]\n"
     ]
    },
    {
     "ename": "RuntimeError",
     "evalue": "Can't call numpy() on Tensor that requires grad. Use tensor.detach().numpy() instead.",
     "output_type": "error",
     "traceback": [
      "\u001b[1;31m---------------------------------------------------------------------------\u001b[0m",
      "\u001b[1;31mRuntimeError\u001b[0m                              Traceback (most recent call last)",
      "Cell \u001b[1;32mIn[234], line 3\u001b[0m\n\u001b[0;32m      1\u001b[0m \u001b[38;5;66;03m##EVAL\u001b[39;00m\n\u001b[0;32m      2\u001b[0m \u001b[38;5;28mprint\u001b[39m(outputs_eval)\n\u001b[1;32m----> 3\u001b[0m plt\u001b[38;5;241m.\u001b[39mplot(outputs_eval)\n\u001b[0;32m      4\u001b[0m plt\u001b[38;5;241m.\u001b[39mplot(expected_outputs)\n",
      "File \u001b[1;32mc:\\Users\\Hampus\\anaconda3\\Lib\\site-packages\\matplotlib\\pyplot.py:2812\u001b[0m, in \u001b[0;36mplot\u001b[1;34m(scalex, scaley, data, *args, **kwargs)\u001b[0m\n\u001b[0;32m   2810\u001b[0m \u001b[38;5;129m@_copy_docstring_and_deprecators\u001b[39m(Axes\u001b[38;5;241m.\u001b[39mplot)\n\u001b[0;32m   2811\u001b[0m \u001b[38;5;28;01mdef\u001b[39;00m \u001b[38;5;21mplot\u001b[39m(\u001b[38;5;241m*\u001b[39margs, scalex\u001b[38;5;241m=\u001b[39m\u001b[38;5;28;01mTrue\u001b[39;00m, scaley\u001b[38;5;241m=\u001b[39m\u001b[38;5;28;01mTrue\u001b[39;00m, data\u001b[38;5;241m=\u001b[39m\u001b[38;5;28;01mNone\u001b[39;00m, \u001b[38;5;241m*\u001b[39m\u001b[38;5;241m*\u001b[39mkwargs):\n\u001b[1;32m-> 2812\u001b[0m     \u001b[38;5;28;01mreturn\u001b[39;00m gca()\u001b[38;5;241m.\u001b[39mplot(\n\u001b[0;32m   2813\u001b[0m         \u001b[38;5;241m*\u001b[39margs, scalex\u001b[38;5;241m=\u001b[39mscalex, scaley\u001b[38;5;241m=\u001b[39mscaley,\n\u001b[0;32m   2814\u001b[0m         \u001b[38;5;241m*\u001b[39m\u001b[38;5;241m*\u001b[39m({\u001b[38;5;124m\"\u001b[39m\u001b[38;5;124mdata\u001b[39m\u001b[38;5;124m\"\u001b[39m: data} \u001b[38;5;28;01mif\u001b[39;00m data \u001b[38;5;129;01mis\u001b[39;00m \u001b[38;5;129;01mnot\u001b[39;00m \u001b[38;5;28;01mNone\u001b[39;00m \u001b[38;5;28;01melse\u001b[39;00m {}), \u001b[38;5;241m*\u001b[39m\u001b[38;5;241m*\u001b[39mkwargs)\n",
      "File \u001b[1;32mc:\\Users\\Hampus\\anaconda3\\Lib\\site-packages\\matplotlib\\axes\\_axes.py:1688\u001b[0m, in \u001b[0;36mAxes.plot\u001b[1;34m(self, scalex, scaley, data, *args, **kwargs)\u001b[0m\n\u001b[0;32m   1445\u001b[0m \u001b[38;5;250m\u001b[39m\u001b[38;5;124;03m\"\"\"\u001b[39;00m\n\u001b[0;32m   1446\u001b[0m \u001b[38;5;124;03mPlot y versus x as lines and/or markers.\u001b[39;00m\n\u001b[0;32m   1447\u001b[0m \n\u001b[1;32m   (...)\u001b[0m\n\u001b[0;32m   1685\u001b[0m \u001b[38;5;124;03m(``'green'``) or hex strings (``'#008000'``).\u001b[39;00m\n\u001b[0;32m   1686\u001b[0m \u001b[38;5;124;03m\"\"\"\u001b[39;00m\n\u001b[0;32m   1687\u001b[0m kwargs \u001b[38;5;241m=\u001b[39m cbook\u001b[38;5;241m.\u001b[39mnormalize_kwargs(kwargs, mlines\u001b[38;5;241m.\u001b[39mLine2D)\n\u001b[1;32m-> 1688\u001b[0m lines \u001b[38;5;241m=\u001b[39m [\u001b[38;5;241m*\u001b[39m\u001b[38;5;28mself\u001b[39m\u001b[38;5;241m.\u001b[39m_get_lines(\u001b[38;5;241m*\u001b[39margs, data\u001b[38;5;241m=\u001b[39mdata, \u001b[38;5;241m*\u001b[39m\u001b[38;5;241m*\u001b[39mkwargs)]\n\u001b[0;32m   1689\u001b[0m \u001b[38;5;28;01mfor\u001b[39;00m line \u001b[38;5;129;01min\u001b[39;00m lines:\n\u001b[0;32m   1690\u001b[0m     \u001b[38;5;28mself\u001b[39m\u001b[38;5;241m.\u001b[39madd_line(line)\n",
      "File \u001b[1;32mc:\\Users\\Hampus\\anaconda3\\Lib\\site-packages\\matplotlib\\axes\\_base.py:311\u001b[0m, in \u001b[0;36m_process_plot_var_args.__call__\u001b[1;34m(self, data, *args, **kwargs)\u001b[0m\n\u001b[0;32m    309\u001b[0m     this \u001b[38;5;241m+\u001b[39m\u001b[38;5;241m=\u001b[39m args[\u001b[38;5;241m0\u001b[39m],\n\u001b[0;32m    310\u001b[0m     args \u001b[38;5;241m=\u001b[39m args[\u001b[38;5;241m1\u001b[39m:]\n\u001b[1;32m--> 311\u001b[0m \u001b[38;5;28;01myield from\u001b[39;00m \u001b[38;5;28mself\u001b[39m\u001b[38;5;241m.\u001b[39m_plot_args(\n\u001b[0;32m    312\u001b[0m     this, kwargs, ambiguous_fmt_datakey\u001b[38;5;241m=\u001b[39mambiguous_fmt_datakey)\n",
      "File \u001b[1;32mc:\\Users\\Hampus\\anaconda3\\Lib\\site-packages\\matplotlib\\axes\\_base.py:496\u001b[0m, in \u001b[0;36m_process_plot_var_args._plot_args\u001b[1;34m(self, tup, kwargs, return_kwargs, ambiguous_fmt_datakey)\u001b[0m\n\u001b[0;32m    494\u001b[0m     y \u001b[38;5;241m=\u001b[39m _check_1d(xy[\u001b[38;5;241m1\u001b[39m])\n\u001b[0;32m    495\u001b[0m \u001b[38;5;28;01melse\u001b[39;00m:\n\u001b[1;32m--> 496\u001b[0m     x, y \u001b[38;5;241m=\u001b[39m index_of(xy[\u001b[38;5;241m-\u001b[39m\u001b[38;5;241m1\u001b[39m])\n\u001b[0;32m    498\u001b[0m \u001b[38;5;28;01mif\u001b[39;00m \u001b[38;5;28mself\u001b[39m\u001b[38;5;241m.\u001b[39maxes\u001b[38;5;241m.\u001b[39mxaxis \u001b[38;5;129;01mis\u001b[39;00m \u001b[38;5;129;01mnot\u001b[39;00m \u001b[38;5;28;01mNone\u001b[39;00m:\n\u001b[0;32m    499\u001b[0m     \u001b[38;5;28mself\u001b[39m\u001b[38;5;241m.\u001b[39maxes\u001b[38;5;241m.\u001b[39mxaxis\u001b[38;5;241m.\u001b[39mupdate_units(x)\n",
      "File \u001b[1;32mc:\\Users\\Hampus\\anaconda3\\Lib\\site-packages\\matplotlib\\cbook\\__init__.py:1656\u001b[0m, in \u001b[0;36mindex_of\u001b[1;34m(y)\u001b[0m\n\u001b[0;32m   1654\u001b[0m     \u001b[38;5;28;01mpass\u001b[39;00m\n\u001b[0;32m   1655\u001b[0m \u001b[38;5;28;01mtry\u001b[39;00m:\n\u001b[1;32m-> 1656\u001b[0m     y \u001b[38;5;241m=\u001b[39m _check_1d(y)\n\u001b[0;32m   1657\u001b[0m \u001b[38;5;28;01mexcept\u001b[39;00m (np\u001b[38;5;241m.\u001b[39mVisibleDeprecationWarning, \u001b[38;5;167;01mValueError\u001b[39;00m):\n\u001b[0;32m   1658\u001b[0m     \u001b[38;5;66;03m# NumPy 1.19 will warn on ragged input, and we can't actually use it.\u001b[39;00m\n\u001b[0;32m   1659\u001b[0m     \u001b[38;5;28;01mpass\u001b[39;00m\n",
      "File \u001b[1;32mc:\\Users\\Hampus\\anaconda3\\Lib\\site-packages\\matplotlib\\cbook\\__init__.py:1348\u001b[0m, in \u001b[0;36m_check_1d\u001b[1;34m(x)\u001b[0m\n\u001b[0;32m   1342\u001b[0m \u001b[38;5;66;03m# plot requires `shape` and `ndim`.  If passed an\u001b[39;00m\n\u001b[0;32m   1343\u001b[0m \u001b[38;5;66;03m# object that doesn't provide them, then force to numpy array.\u001b[39;00m\n\u001b[0;32m   1344\u001b[0m \u001b[38;5;66;03m# Note this will strip unit information.\u001b[39;00m\n\u001b[0;32m   1345\u001b[0m \u001b[38;5;28;01mif\u001b[39;00m (\u001b[38;5;129;01mnot\u001b[39;00m \u001b[38;5;28mhasattr\u001b[39m(x, \u001b[38;5;124m'\u001b[39m\u001b[38;5;124mshape\u001b[39m\u001b[38;5;124m'\u001b[39m) \u001b[38;5;129;01mor\u001b[39;00m\n\u001b[0;32m   1346\u001b[0m         \u001b[38;5;129;01mnot\u001b[39;00m \u001b[38;5;28mhasattr\u001b[39m(x, \u001b[38;5;124m'\u001b[39m\u001b[38;5;124mndim\u001b[39m\u001b[38;5;124m'\u001b[39m) \u001b[38;5;129;01mor\u001b[39;00m\n\u001b[0;32m   1347\u001b[0m         \u001b[38;5;28mlen\u001b[39m(x\u001b[38;5;241m.\u001b[39mshape) \u001b[38;5;241m<\u001b[39m \u001b[38;5;241m1\u001b[39m):\n\u001b[1;32m-> 1348\u001b[0m     \u001b[38;5;28;01mreturn\u001b[39;00m np\u001b[38;5;241m.\u001b[39matleast_1d(x)\n\u001b[0;32m   1349\u001b[0m \u001b[38;5;28;01melse\u001b[39;00m:\n\u001b[0;32m   1350\u001b[0m     \u001b[38;5;28;01mreturn\u001b[39;00m x\n",
      "File \u001b[1;32m<__array_function__ internals>:200\u001b[0m, in \u001b[0;36matleast_1d\u001b[1;34m(*args, **kwargs)\u001b[0m\n",
      "File \u001b[1;32mc:\\Users\\Hampus\\anaconda3\\Lib\\site-packages\\numpy\\core\\shape_base.py:65\u001b[0m, in \u001b[0;36matleast_1d\u001b[1;34m(*arys)\u001b[0m\n\u001b[0;32m     63\u001b[0m res \u001b[38;5;241m=\u001b[39m []\n\u001b[0;32m     64\u001b[0m \u001b[38;5;28;01mfor\u001b[39;00m ary \u001b[38;5;129;01min\u001b[39;00m arys:\n\u001b[1;32m---> 65\u001b[0m     ary \u001b[38;5;241m=\u001b[39m asanyarray(ary)\n\u001b[0;32m     66\u001b[0m     \u001b[38;5;28;01mif\u001b[39;00m ary\u001b[38;5;241m.\u001b[39mndim \u001b[38;5;241m==\u001b[39m \u001b[38;5;241m0\u001b[39m:\n\u001b[0;32m     67\u001b[0m         result \u001b[38;5;241m=\u001b[39m ary\u001b[38;5;241m.\u001b[39mreshape(\u001b[38;5;241m1\u001b[39m)\n",
      "File \u001b[1;32mc:\\Users\\Hampus\\anaconda3\\Lib\\site-packages\\torch\\_tensor.py:970\u001b[0m, in \u001b[0;36mTensor.__array__\u001b[1;34m(self, dtype)\u001b[0m\n\u001b[0;32m    968\u001b[0m     \u001b[38;5;28;01mreturn\u001b[39;00m handle_torch_function(Tensor\u001b[38;5;241m.\u001b[39m__array__, (\u001b[38;5;28mself\u001b[39m,), \u001b[38;5;28mself\u001b[39m, dtype\u001b[38;5;241m=\u001b[39mdtype)\n\u001b[0;32m    969\u001b[0m \u001b[38;5;28;01mif\u001b[39;00m dtype \u001b[38;5;129;01mis\u001b[39;00m \u001b[38;5;28;01mNone\u001b[39;00m:\n\u001b[1;32m--> 970\u001b[0m     \u001b[38;5;28;01mreturn\u001b[39;00m \u001b[38;5;28mself\u001b[39m\u001b[38;5;241m.\u001b[39mnumpy()\n\u001b[0;32m    971\u001b[0m \u001b[38;5;28;01melse\u001b[39;00m:\n\u001b[0;32m    972\u001b[0m     \u001b[38;5;28;01mreturn\u001b[39;00m \u001b[38;5;28mself\u001b[39m\u001b[38;5;241m.\u001b[39mnumpy()\u001b[38;5;241m.\u001b[39mastype(dtype, copy\u001b[38;5;241m=\u001b[39m\u001b[38;5;28;01mFalse\u001b[39;00m)\n",
      "\u001b[1;31mRuntimeError\u001b[0m: Can't call numpy() on Tensor that requires grad. Use tensor.detach().numpy() instead."
     ]
    },
    {
     "data": {
      "image/png": "[encoded data removed]",
      "text/plain": [
       "<Figure size 640x480 with 1 Axes>"
      ]
     },
     "metadata": {},
     "output_type": "display_data"
    }
   ],
   "source": [
    "##EVAL\n",
    "print(outputs_eval)\n",
    "plt.plot(outputs_eval)\n",
    "plt.plot(expected_outputs)"
   ]
  }
 ],
 "metadata": {
  "kernelspec": {
   "display_name": "Python 3",
   "language": "python",
   "name": "python3"
  },
  "language_info": {
   "codemirror_mode": {
    "name": "ipython",
    "version": 3
   },
   "file_extension": ".py",
   "mimetype": "text/x-python",
   "name": "python",
   "nbconvert_exporter": "python",
   "pygments_lexer": "ipython3",
   "version": "3.11.4"
  }
 },
 "nbformat": 4,
 "nbformat_minor": 2
}
